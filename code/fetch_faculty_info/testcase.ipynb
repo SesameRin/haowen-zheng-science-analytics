{
 "cells": [
  {
   "cell_type": "code",
   "execution_count": 8,
   "metadata": {},
   "outputs": [],
   "source": [
    "from scholarly import scholarly\n",
    "import pandas as pd\n",
    "import requests\n",
    "import re\n",
    "from fuzzywuzzy import fuzz\n",
    "from fuzzywuzzy import process"
   ]
  },
  {
   "cell_type": "code",
   "execution_count": 4,
   "metadata": {},
   "outputs": [],
   "source": [
    "df = pd.read_csv(\"./faculty_data/Faculty_CS_ECE-20230806.csv\")\n",
    "df_cs_original = df[df['Department_Id'] == 0].copy()  # filter df to only include faculty with department_id = 0\n",
    "df_cs_original = df_cs_original.reset_index(drop=True)\n",
    "df_cs_original['scholar_id'] = None\n",
    "df_cs_original['openalex_id'] = None\n",
    "df_cs_original['image_url'] = None\n",
    "df_cs = df_cs_original.copy()\n",
    "# df_cs # uncomment this line to see the dataframe"
   ]
  },
  {
   "cell_type": "code",
   "execution_count": 5,
   "metadata": {},
   "outputs": [],
   "source": [
    "def possible_name_list(name):\n",
    "    cleared_name = name.replace('PhD','').replace('MS','').strip() # remove PhD and MS\n",
    "    name_list = [cleared_name]\n",
    "    temp_name = re.sub(r'\\b[A-Za-z]\\b[ .]*', '', cleared_name).strip()\n",
    "    if temp_name != cleared_name:\n",
    "        name_list.append(temp_name)\n",
    "    # get different parts of name splitted by ' '\n",
    "    if ' ' in cleared_name:\n",
    "        name_split = cleared_name.split(' ')\n",
    "        for part in name_split:\n",
    "            # if part is not a single letter\n",
    "            if len(part) > 1:\n",
    "                name_list.append(part)\n",
    "    return name_list\n",
    "\n",
    "def google_scholar_get_one_author(name, affiliation, email):\n",
    "    alternative_name_list = possible_name_list(name)\n",
    "    if '@' in email:  # only keep email after @\n",
    "        email0 = email.split('@')[1]\n",
    "    elif email == 'Missing':\n",
    "        email0 = None\n",
    "    else:\n",
    "        email0 = email\n",
    "\n",
    "    # search by name and affiliation\n",
    "    for possible_name in alternative_name_list:\n",
    "        search_query = possible_name + ' ' + affiliation\n",
    "        author = next(scholarly.search_author(search_query), None)\n",
    "        if author:\n",
    "            return (author.get('scholar_id'), author.get('url_picture'))\n",
    "    if email0 is None:\n",
    "        return (None, None)\n",
    "    # search by name and email\n",
    "    for possible_name in alternative_name_list:\n",
    "        search_query = possible_name + ' ' + email0\n",
    "        author = next(scholarly.search_author(search_query), None)\n",
    "        if author:\n",
    "            return (author.get('scholar_id'), author.get('url_picture'))\n",
    "\n",
    "    return (None, None)\n"
   ]
  },
  {
   "cell_type": "code",
   "execution_count": 7,
   "metadata": {},
   "outputs": [
    {
     "name": "stdout",
     "output_type": "stream",
     "text": [
      "yyDMlesAAAAJ https://scholar.google.com/citations?view_op=medium_photo&user=yyDMlesAAAAJ\n"
     ]
    }
   ],
   "source": [
    "# google scholar test\n",
    "i = 0 # change i to test different faculty\n",
    "name = df_cs['Name'][i]\n",
    "affiliation = df_cs['University_Name'][i]\n",
    "email = df_cs['Email'][i]\n",
    "(id,image_url) = google_scholar_get_one_author(name,affiliation,email)\n",
    "print(id,image_url)"
   ]
  },
  {
   "cell_type": "code",
   "execution_count": 9,
   "metadata": {},
   "outputs": [],
   "source": [
    "def openalex_get_one_author(name, institution):\n",
    "    name_list = possible_name_list(name)\n",
    "    for n in name_list:\n",
    "        url = \"https://api.openalex.org/authors?filter=display_name.search:{},last_known_institution.country_code:US&per-page=200\".format(n)\n",
    "        response = requests.get(url)\n",
    "        if response.status_code == 200:\n",
    "            data = response.json()\n",
    "            if data['meta']['count'] == 0:\n",
    "                # print('here')\n",
    "                return None\n",
    "            elif data['meta']['count'] >= 1:\n",
    "                # collect authors' institutions list\n",
    "                inst_list = []\n",
    "                for author in data['results']:\n",
    "                    # if author has no institution, skip\n",
    "                    if author['last_known_institution'] is not None:\n",
    "                        inst_list.append(author['last_known_institution']['display_name'])\n",
    "                    else:\n",
    "                        inst_list.append(None)\n",
    "\n",
    "                # find the best match\n",
    "                best_match = process.extractOne(institution,inst_list,scorer=fuzz.token_sort_ratio)\n",
    "                if best_match is None:\n",
    "                    print(f'No match found for {name} from {institution}\\n')\n",
    "                    return None\n",
    "\n",
    "                if best_match[1] > 80:  # if there is a match, return the author object\n",
    "                    # print(f'Match Score: {best_match[1]}, Matched Institution: {best_match[0]}\\n')\n",
    "                    return data['results'][inst_list.index(best_match[0])]\n",
    "                else:  # if there is no match, return None\n",
    "                    # print(f'Match Score: {best_match[1]}, Matched Institution: {best_match[0]}\\n')\n",
    "                    return None\n",
    "\n",
    "        else:\n",
    "            return None"
   ]
  },
  {
   "cell_type": "code",
   "execution_count": 10,
   "metadata": {},
   "outputs": [
    {
     "name": "stdout",
     "output_type": "stream",
     "text": [
      "{'id': 'https://openalex.org/A5006981411', 'orcid': None, 'display_name': 'Josh Alman', 'display_name_alternatives': ['Josh Alman', 'Alman Josh'], 'relevance_score': 1014.1382, 'works_count': 58, 'cited_by_count': 427, 'summary_stats': {'2yr_mean_citedness': 3.6666666666666665, 'h_index': 9, 'i10_index': 8}, 'ids': {'openalex': 'https://openalex.org/A5006981411'}, 'last_known_institution': {'id': 'https://openalex.org/I78577930', 'ror': 'https://ror.org/00hj8s172', 'display_name': 'Columbia University', 'country_code': 'US', 'type': 'education'}, 'x_concepts': [{'id': 'https://openalex.org/C33923547', 'wikidata': 'https://www.wikidata.org/wiki/Q395', 'display_name': 'Mathematics', 'level': 0, 'score': 98.3}, {'id': 'https://openalex.org/C114614502', 'wikidata': 'https://www.wikidata.org/wiki/Q76592', 'display_name': 'Combinatorics', 'level': 1, 'score': 89.7}, {'id': 'https://openalex.org/C41008148', 'wikidata': 'https://www.wikidata.org/wiki/Q21198', 'display_name': 'Computer science', 'level': 0, 'score': 87.9}, {'id': 'https://openalex.org/C118615104', 'wikidata': 'https://www.wikidata.org/wiki/Q121416', 'display_name': 'Discrete mathematics', 'level': 1, 'score': 81.0}, {'id': 'https://openalex.org/C121332964', 'wikidata': 'https://www.wikidata.org/wiki/Q413', 'display_name': 'Physics', 'level': 0, 'score': 74.1}, {'id': 'https://openalex.org/C134306372', 'wikidata': 'https://www.wikidata.org/wiki/Q7754', 'display_name': 'Mathematical analysis', 'level': 1, 'score': 67.2}, {'id': 'https://openalex.org/C62520636', 'wikidata': 'https://www.wikidata.org/wiki/Q944', 'display_name': 'Quantum mechanics', 'level': 1, 'score': 65.5}, {'id': 'https://openalex.org/C11413529', 'wikidata': 'https://www.wikidata.org/wiki/Q8366', 'display_name': 'Algorithm', 'level': 1, 'score': 58.6}, {'id': 'https://openalex.org/C159985019', 'wikidata': 'https://www.wikidata.org/wiki/Q181790', 'display_name': 'Composite material', 'level': 1, 'score': 51.7}, {'id': 'https://openalex.org/C185592680', 'wikidata': 'https://www.wikidata.org/wiki/Q2329', 'display_name': 'Chemistry', 'level': 0, 'score': 51.7}, {'id': 'https://openalex.org/C192562407', 'wikidata': 'https://www.wikidata.org/wiki/Q228736', 'display_name': 'Materials science', 'level': 0, 'score': 51.7}, {'id': 'https://openalex.org/C199360897', 'wikidata': 'https://www.wikidata.org/wiki/Q9143', 'display_name': 'Programming language', 'level': 1, 'score': 46.6}, {'id': 'https://openalex.org/C43617362', 'wikidata': 'https://www.wikidata.org/wiki/Q170050', 'display_name': 'Chromatography', 'level': 1, 'score': 43.1}, {'id': 'https://openalex.org/C77553402', 'wikidata': 'https://www.wikidata.org/wiki/Q13222579', 'display_name': 'Upper and lower bounds', 'level': 2, 'score': 43.1}, {'id': 'https://openalex.org/C106487976', 'wikidata': 'https://www.wikidata.org/wiki/Q685816', 'display_name': 'Matrix (chemical analysis)', 'level': 2, 'score': 43.1}, {'id': 'https://openalex.org/C138885662', 'wikidata': 'https://www.wikidata.org/wiki/Q5891', 'display_name': 'Philosophy', 'level': 0, 'score': 43.1}, {'id': 'https://openalex.org/C2524010', 'wikidata': 'https://www.wikidata.org/wiki/Q8087', 'display_name': 'Geometry', 'level': 1, 'score': 37.9}, {'id': 'https://openalex.org/C41895202', 'wikidata': 'https://www.wikidata.org/wiki/Q8162', 'display_name': 'Linguistics', 'level': 1, 'score': 37.9}, {'id': 'https://openalex.org/C84114770', 'wikidata': 'https://www.wikidata.org/wiki/Q46344', 'display_name': 'Quantum', 'level': 2, 'score': 36.2}, {'id': 'https://openalex.org/C202444582', 'wikidata': 'https://www.wikidata.org/wiki/Q837863', 'display_name': 'Pure mathematics', 'level': 1, 'score': 36.2}, {'id': 'https://openalex.org/C17349429', 'wikidata': 'https://www.wikidata.org/wiki/Q1049914', 'display_name': 'Matrix multiplication', 'level': 3, 'score': 34.5}, {'id': 'https://openalex.org/C2779557605', 'wikidata': 'https://www.wikidata.org/wiki/Q9890', 'display_name': 'Omega', 'level': 2, 'score': 31.0}, {'id': 'https://openalex.org/C24890656', 'wikidata': 'https://www.wikidata.org/wiki/Q82811', 'display_name': 'Acoustics', 'level': 1, 'score': 27.6}, {'id': 'https://openalex.org/C80444323', 'wikidata': 'https://www.wikidata.org/wiki/Q2878974', 'display_name': 'Theoretical computer science', 'level': 1, 'score': 27.6}, {'id': 'https://openalex.org/C111919701', 'wikidata': 'https://www.wikidata.org/wiki/Q9135', 'display_name': 'Operating system', 'level': 1, 'score': 27.6}], 'counts_by_year': [{'year': 2023, 'works_count': 5, 'cited_by_count': 40}, {'year': 2022, 'works_count': 7, 'cited_by_count': 71}, {'year': 2021, 'works_count': 7, 'cited_by_count': 116}, {'year': 2020, 'works_count': 8, 'cited_by_count': 83}, {'year': 2019, 'works_count': 5, 'cited_by_count': 45}, {'year': 2018, 'works_count': 10, 'cited_by_count': 40}, {'year': 2017, 'works_count': 9, 'cited_by_count': 21}, {'year': 2016, 'works_count': 5, 'cited_by_count': 10}, {'year': 2015, 'works_count': 2, 'cited_by_count': 2}], 'works_api_url': 'https://api.openalex.org/works?filter=author.id:A5006981411', 'updated_date': '2023-08-26T06:09:33.795501', 'created_date': '2023-07-21'}\n"
     ]
    }
   ],
   "source": [
    "# openalex test\n",
    "i = 0  # change i to test different faculty\n",
    "name = df_cs['Name'][i]\n",
    "affiliation = df_cs['University_Name'][i]\n",
    "author = openalex_get_one_author(name,affiliation)\n",
    "print(author)"
   ]
  }
 ],
 "metadata": {
  "kernelspec": {
   "display_name": "ds",
   "language": "python",
   "name": "python3"
  },
  "language_info": {
   "codemirror_mode": {
    "name": "ipython",
    "version": 3
   },
   "file_extension": ".py",
   "mimetype": "text/x-python",
   "name": "python",
   "nbconvert_exporter": "python",
   "pygments_lexer": "ipython3",
   "version": "3.11.4"
  },
  "orig_nbformat": 4
 },
 "nbformat": 4,
 "nbformat_minor": 2
}
